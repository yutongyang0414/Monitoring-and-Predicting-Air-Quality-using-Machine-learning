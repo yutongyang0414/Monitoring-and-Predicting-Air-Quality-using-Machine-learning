{
 "cells": [
  {
   "cell_type": "code",
   "execution_count": 1,
   "metadata": {},
   "outputs": [],
   "source": [
    "# modeling of individual pollutants\n",
    "import statsmodels.tsa.api as tsa\n",
    "import statsmodels\n",
    "import pandas as pd\n",
    "import numpy as np\n",
    "import matplotlib.pyplot as plt"
   ]
  },
  {
   "cell_type": "code",
   "execution_count": 2,
   "metadata": {},
   "outputs": [
    {
     "data": {
      "text/html": [
       "<div>\n",
       "<style scoped>\n",
       "    .dataframe tbody tr th:only-of-type {\n",
       "        vertical-align: middle;\n",
       "    }\n",
       "\n",
       "    .dataframe tbody tr th {\n",
       "        vertical-align: top;\n",
       "    }\n",
       "\n",
       "    .dataframe thead th {\n",
       "        text-align: right;\n",
       "    }\n",
       "</style>\n",
       "<table border=\"1\" class=\"dataframe\">\n",
       "  <thead>\n",
       "    <tr style=\"text-align: right;\">\n",
       "      <th></th>\n",
       "      <th>PM2.5</th>\n",
       "      <th>PM10</th>\n",
       "      <th>NO</th>\n",
       "      <th>NO2</th>\n",
       "      <th>NOx</th>\n",
       "      <th>NH3</th>\n",
       "      <th>SO2</th>\n",
       "      <th>CO</th>\n",
       "      <th>Ozone</th>\n",
       "      <th>Date</th>\n",
       "    </tr>\n",
       "    <tr>\n",
       "      <th>From Date</th>\n",
       "      <th></th>\n",
       "      <th></th>\n",
       "      <th></th>\n",
       "      <th></th>\n",
       "      <th></th>\n",
       "      <th></th>\n",
       "      <th></th>\n",
       "      <th></th>\n",
       "      <th></th>\n",
       "      <th></th>\n",
       "    </tr>\n",
       "  </thead>\n",
       "  <tbody>\n",
       "    <tr>\n",
       "      <th>2021-01-01 00:00:00</th>\n",
       "      <td>79.18</td>\n",
       "      <td>116.33</td>\n",
       "      <td>0.36</td>\n",
       "      <td>10.86</td>\n",
       "      <td>11.22</td>\n",
       "      <td>7.79</td>\n",
       "      <td>5.72</td>\n",
       "      <td>0.41</td>\n",
       "      <td>107.72</td>\n",
       "      <td>2021-01-01</td>\n",
       "    </tr>\n",
       "    <tr>\n",
       "      <th>2021-01-01 00:15:00</th>\n",
       "      <td>75.00</td>\n",
       "      <td>107.00</td>\n",
       "      <td>0.53</td>\n",
       "      <td>9.04</td>\n",
       "      <td>9.58</td>\n",
       "      <td>7.64</td>\n",
       "      <td>5.52</td>\n",
       "      <td>0.41</td>\n",
       "      <td>104.27</td>\n",
       "      <td>2021-01-01</td>\n",
       "    </tr>\n",
       "    <tr>\n",
       "      <th>2021-01-01 00:30:00</th>\n",
       "      <td>75.00</td>\n",
       "      <td>107.00</td>\n",
       "      <td>1.02</td>\n",
       "      <td>10.77</td>\n",
       "      <td>11.79</td>\n",
       "      <td>7.78</td>\n",
       "      <td>6.18</td>\n",
       "      <td>0.53</td>\n",
       "      <td>98.05</td>\n",
       "      <td>2021-01-01</td>\n",
       "    </tr>\n",
       "    <tr>\n",
       "      <th>2021-01-01 00:45:00</th>\n",
       "      <td>75.00</td>\n",
       "      <td>107.00</td>\n",
       "      <td>1.47</td>\n",
       "      <td>17.84</td>\n",
       "      <td>19.33</td>\n",
       "      <td>8.12</td>\n",
       "      <td>6.69</td>\n",
       "      <td>0.60</td>\n",
       "      <td>86.91</td>\n",
       "      <td>2021-01-01</td>\n",
       "    </tr>\n",
       "    <tr>\n",
       "      <th>2021-01-01 01:00:00</th>\n",
       "      <td>76.40</td>\n",
       "      <td>107.44</td>\n",
       "      <td>1.46</td>\n",
       "      <td>17.81</td>\n",
       "      <td>19.28</td>\n",
       "      <td>8.57</td>\n",
       "      <td>6.40</td>\n",
       "      <td>0.59</td>\n",
       "      <td>83.05</td>\n",
       "      <td>2021-01-01</td>\n",
       "    </tr>\n",
       "  </tbody>\n",
       "</table>\n",
       "</div>"
      ],
      "text/plain": [
       "                     PM2.5    PM10    NO    NO2    NOx   NH3   SO2    CO  \\\n",
       "From Date                                                                  \n",
       "2021-01-01 00:00:00  79.18  116.33  0.36  10.86  11.22  7.79  5.72  0.41   \n",
       "2021-01-01 00:15:00  75.00  107.00  0.53   9.04   9.58  7.64  5.52  0.41   \n",
       "2021-01-01 00:30:00  75.00  107.00  1.02  10.77  11.79  7.78  6.18  0.53   \n",
       "2021-01-01 00:45:00  75.00  107.00  1.47  17.84  19.33  8.12  6.69  0.60   \n",
       "2021-01-01 01:00:00  76.40  107.44  1.46  17.81  19.28  8.57  6.40  0.59   \n",
       "\n",
       "                      Ozone        Date  \n",
       "From Date                                \n",
       "2021-01-01 00:00:00  107.72  2021-01-01  \n",
       "2021-01-01 00:15:00  104.27  2021-01-01  \n",
       "2021-01-01 00:30:00   98.05  2021-01-01  \n",
       "2021-01-01 00:45:00   86.91  2021-01-01  \n",
       "2021-01-01 01:00:00   83.05  2021-01-01  "
      ]
     },
     "metadata": {},
     "output_type": "display_data"
    },
    {
     "data": {
      "text/html": [
       "<div>\n",
       "<style scoped>\n",
       "    .dataframe tbody tr th:only-of-type {\n",
       "        vertical-align: middle;\n",
       "    }\n",
       "\n",
       "    .dataframe tbody tr th {\n",
       "        vertical-align: top;\n",
       "    }\n",
       "\n",
       "    .dataframe thead th {\n",
       "        text-align: right;\n",
       "    }\n",
       "</style>\n",
       "<table border=\"1\" class=\"dataframe\">\n",
       "  <thead>\n",
       "    <tr style=\"text-align: right;\">\n",
       "      <th></th>\n",
       "      <th>PM2.5</th>\n",
       "      <th>PM10</th>\n",
       "      <th>NO</th>\n",
       "      <th>NO2</th>\n",
       "      <th>NOx</th>\n",
       "      <th>NH3</th>\n",
       "      <th>SO2</th>\n",
       "      <th>CO</th>\n",
       "      <th>Ozone</th>\n",
       "      <th>Date</th>\n",
       "    </tr>\n",
       "    <tr>\n",
       "      <th>From Date</th>\n",
       "      <th></th>\n",
       "      <th></th>\n",
       "      <th></th>\n",
       "      <th></th>\n",
       "      <th></th>\n",
       "      <th></th>\n",
       "      <th></th>\n",
       "      <th></th>\n",
       "      <th></th>\n",
       "      <th></th>\n",
       "    </tr>\n",
       "  </thead>\n",
       "  <tbody>\n",
       "    <tr>\n",
       "      <th>2023-12-02 22:45:00</th>\n",
       "      <td>37.00</td>\n",
       "      <td>89.00</td>\n",
       "      <td>10.65</td>\n",
       "      <td>31.04</td>\n",
       "      <td>41.68</td>\n",
       "      <td>2.50</td>\n",
       "      <td>7.54</td>\n",
       "      <td>0.61</td>\n",
       "      <td>46.62</td>\n",
       "      <td>2023-12-02</td>\n",
       "    </tr>\n",
       "    <tr>\n",
       "      <th>2023-12-02 23:00:00</th>\n",
       "      <td>35.27</td>\n",
       "      <td>90.37</td>\n",
       "      <td>10.28</td>\n",
       "      <td>32.96</td>\n",
       "      <td>43.25</td>\n",
       "      <td>2.36</td>\n",
       "      <td>7.57</td>\n",
       "      <td>0.62</td>\n",
       "      <td>45.84</td>\n",
       "      <td>2023-12-02</td>\n",
       "    </tr>\n",
       "    <tr>\n",
       "      <th>2023-12-02 23:15:00</th>\n",
       "      <td>34.00</td>\n",
       "      <td>92.00</td>\n",
       "      <td>11.39</td>\n",
       "      <td>31.30</td>\n",
       "      <td>42.71</td>\n",
       "      <td>1.75</td>\n",
       "      <td>7.72</td>\n",
       "      <td>0.60</td>\n",
       "      <td>46.43</td>\n",
       "      <td>2023-12-02</td>\n",
       "    </tr>\n",
       "    <tr>\n",
       "      <th>2023-12-02 23:30:00</th>\n",
       "      <td>34.00</td>\n",
       "      <td>92.00</td>\n",
       "      <td>12.21</td>\n",
       "      <td>30.04</td>\n",
       "      <td>42.26</td>\n",
       "      <td>1.87</td>\n",
       "      <td>8.01</td>\n",
       "      <td>0.60</td>\n",
       "      <td>45.95</td>\n",
       "      <td>2023-12-02</td>\n",
       "    </tr>\n",
       "    <tr>\n",
       "      <th>2023-12-02 23:45:00</th>\n",
       "      <td>34.00</td>\n",
       "      <td>92.00</td>\n",
       "      <td>11.63</td>\n",
       "      <td>28.68</td>\n",
       "      <td>40.33</td>\n",
       "      <td>3.81</td>\n",
       "      <td>8.01</td>\n",
       "      <td>0.60</td>\n",
       "      <td>48.34</td>\n",
       "      <td>2023-12-02</td>\n",
       "    </tr>\n",
       "  </tbody>\n",
       "</table>\n",
       "</div>"
      ],
      "text/plain": [
       "                     PM2.5   PM10     NO    NO2    NOx   NH3   SO2    CO  \\\n",
       "From Date                                                                  \n",
       "2023-12-02 22:45:00  37.00  89.00  10.65  31.04  41.68  2.50  7.54  0.61   \n",
       "2023-12-02 23:00:00  35.27  90.37  10.28  32.96  43.25  2.36  7.57  0.62   \n",
       "2023-12-02 23:15:00  34.00  92.00  11.39  31.30  42.71  1.75  7.72  0.60   \n",
       "2023-12-02 23:30:00  34.00  92.00  12.21  30.04  42.26  1.87  8.01  0.60   \n",
       "2023-12-02 23:45:00  34.00  92.00  11.63  28.68  40.33  3.81  8.01  0.60   \n",
       "\n",
       "                     Ozone        Date  \n",
       "From Date                               \n",
       "2023-12-02 22:45:00  46.62  2023-12-02  \n",
       "2023-12-02 23:00:00  45.84  2023-12-02  \n",
       "2023-12-02 23:15:00  46.43  2023-12-02  \n",
       "2023-12-02 23:30:00  45.95  2023-12-02  \n",
       "2023-12-02 23:45:00  48.34  2023-12-02  "
      ]
     },
     "metadata": {},
     "output_type": "display_data"
    }
   ],
   "source": [
    "df = pd.read_csv(\"final_powai_df (1).csv\", index_col=0)#[:1000].copy()\n",
    "df = df.sort_values(by='From Date')\n",
    "df['From Date'] = pd.to_datetime(df['From Date'])\n",
    "df = df.set_index(\"From Date\")\n",
    "display(df.head())\n",
    "display(df.tail())"
   ]
  },
  {
   "cell_type": "code",
   "execution_count": 3,
   "metadata": {},
   "outputs": [
    {
     "name": "stdout",
     "output_type": "stream",
     "text": [
      "<class 'pandas.core.frame.DataFrame'>\n",
      "DatetimeIndex: 76321 entries, 2021-01-01 00:00:00 to 2023-12-02 23:45:00\n",
      "Data columns (total 10 columns):\n",
      " #   Column  Non-Null Count  Dtype  \n",
      "---  ------  --------------  -----  \n",
      " 0   PM2.5   76321 non-null  float64\n",
      " 1   PM10    76321 non-null  float64\n",
      " 2   NO      76321 non-null  float64\n",
      " 3   NO2     76321 non-null  float64\n",
      " 4   NOx     76321 non-null  float64\n",
      " 5   NH3     76321 non-null  float64\n",
      " 6   SO2     76321 non-null  float64\n",
      " 7   CO      76321 non-null  float64\n",
      " 8   Ozone   76321 non-null  float64\n",
      " 9   Date    76321 non-null  object \n",
      "dtypes: float64(9), object(1)\n",
      "memory usage: 6.4+ MB\n"
     ]
    }
   ],
   "source": [
    "df.info()"
   ]
  },
  {
   "cell_type": "code",
   "execution_count": 4,
   "metadata": {},
   "outputs": [
    {
     "data": {
      "text/plain": [
       "PM2.5    False\n",
       "PM10     False\n",
       "NO       False\n",
       "NO2      False\n",
       "NOx      False\n",
       "NH3      False\n",
       "SO2      False\n",
       "CO       False\n",
       "Ozone    False\n",
       "Date     False\n",
       "dtype: bool"
      ]
     },
     "execution_count": 4,
     "metadata": {},
     "output_type": "execute_result"
    }
   ],
   "source": [
    "df.isnull().any()"
   ]
  },
  {
   "cell_type": "code",
   "execution_count": 5,
   "metadata": {},
   "outputs": [
    {
     "data": {
      "text/html": [
       "<div>\n",
       "<style scoped>\n",
       "    .dataframe tbody tr th:only-of-type {\n",
       "        vertical-align: middle;\n",
       "    }\n",
       "\n",
       "    .dataframe tbody tr th {\n",
       "        vertical-align: top;\n",
       "    }\n",
       "\n",
       "    .dataframe thead th {\n",
       "        text-align: right;\n",
       "    }\n",
       "</style>\n",
       "<table border=\"1\" class=\"dataframe\">\n",
       "  <thead>\n",
       "    <tr style=\"text-align: right;\">\n",
       "      <th></th>\n",
       "      <th>PM2.5</th>\n",
       "      <th>PM10</th>\n",
       "      <th>NO</th>\n",
       "      <th>NO2</th>\n",
       "      <th>NOx</th>\n",
       "      <th>NH3</th>\n",
       "      <th>SO2</th>\n",
       "      <th>CO</th>\n",
       "      <th>Ozone</th>\n",
       "    </tr>\n",
       "  </thead>\n",
       "  <tbody>\n",
       "    <tr>\n",
       "      <th>count</th>\n",
       "      <td>76321.000000</td>\n",
       "      <td>76321.000000</td>\n",
       "      <td>76321.000000</td>\n",
       "      <td>76321.000000</td>\n",
       "      <td>76321.000000</td>\n",
       "      <td>76321.000000</td>\n",
       "      <td>76321.000000</td>\n",
       "      <td>76321.000000</td>\n",
       "      <td>76321.000000</td>\n",
       "    </tr>\n",
       "    <tr>\n",
       "      <th>mean</th>\n",
       "      <td>48.589556</td>\n",
       "      <td>92.203691</td>\n",
       "      <td>9.692436</td>\n",
       "      <td>20.382562</td>\n",
       "      <td>25.924529</td>\n",
       "      <td>4.450456</td>\n",
       "      <td>9.215890</td>\n",
       "      <td>0.646329</td>\n",
       "      <td>28.499424</td>\n",
       "    </tr>\n",
       "    <tr>\n",
       "      <th>std</th>\n",
       "      <td>35.014979</td>\n",
       "      <td>54.382158</td>\n",
       "      <td>11.790700</td>\n",
       "      <td>12.627772</td>\n",
       "      <td>20.765238</td>\n",
       "      <td>5.047033</td>\n",
       "      <td>12.037002</td>\n",
       "      <td>0.489995</td>\n",
       "      <td>35.955481</td>\n",
       "    </tr>\n",
       "    <tr>\n",
       "      <th>min</th>\n",
       "      <td>0.730000</td>\n",
       "      <td>5.000000</td>\n",
       "      <td>0.010000</td>\n",
       "      <td>0.010000</td>\n",
       "      <td>0.000000</td>\n",
       "      <td>0.000000</td>\n",
       "      <td>0.000000</td>\n",
       "      <td>0.000000</td>\n",
       "      <td>0.000000</td>\n",
       "    </tr>\n",
       "    <tr>\n",
       "      <th>25%</th>\n",
       "      <td>20.440000</td>\n",
       "      <td>55.870000</td>\n",
       "      <td>2.090000</td>\n",
       "      <td>12.430000</td>\n",
       "      <td>9.410000</td>\n",
       "      <td>1.020000</td>\n",
       "      <td>1.150000</td>\n",
       "      <td>0.220000</td>\n",
       "      <td>1.660000</td>\n",
       "    </tr>\n",
       "    <tr>\n",
       "      <th>50%</th>\n",
       "      <td>44.567449</td>\n",
       "      <td>76.993327</td>\n",
       "      <td>7.290000</td>\n",
       "      <td>17.783457</td>\n",
       "      <td>23.350000</td>\n",
       "      <td>3.870000</td>\n",
       "      <td>4.880000</td>\n",
       "      <td>0.680000</td>\n",
       "      <td>14.320000</td>\n",
       "    </tr>\n",
       "    <tr>\n",
       "      <th>75%</th>\n",
       "      <td>68.000000</td>\n",
       "      <td>120.000000</td>\n",
       "      <td>10.600000</td>\n",
       "      <td>25.590000</td>\n",
       "      <td>38.590000</td>\n",
       "      <td>6.690000</td>\n",
       "      <td>10.670000</td>\n",
       "      <td>0.930000</td>\n",
       "      <td>42.390000</td>\n",
       "    </tr>\n",
       "    <tr>\n",
       "      <th>max</th>\n",
       "      <td>585.770000</td>\n",
       "      <td>587.200000</td>\n",
       "      <td>185.310000</td>\n",
       "      <td>148.270000</td>\n",
       "      <td>261.410000</td>\n",
       "      <td>342.670000</td>\n",
       "      <td>99.820000</td>\n",
       "      <td>3.940000</td>\n",
       "      <td>199.930000</td>\n",
       "    </tr>\n",
       "  </tbody>\n",
       "</table>\n",
       "</div>"
      ],
      "text/plain": [
       "              PM2.5          PM10            NO           NO2           NOx  \\\n",
       "count  76321.000000  76321.000000  76321.000000  76321.000000  76321.000000   \n",
       "mean      48.589556     92.203691      9.692436     20.382562     25.924529   \n",
       "std       35.014979     54.382158     11.790700     12.627772     20.765238   \n",
       "min        0.730000      5.000000      0.010000      0.010000      0.000000   \n",
       "25%       20.440000     55.870000      2.090000     12.430000      9.410000   \n",
       "50%       44.567449     76.993327      7.290000     17.783457     23.350000   \n",
       "75%       68.000000    120.000000     10.600000     25.590000     38.590000   \n",
       "max      585.770000    587.200000    185.310000    148.270000    261.410000   \n",
       "\n",
       "                NH3           SO2            CO         Ozone  \n",
       "count  76321.000000  76321.000000  76321.000000  76321.000000  \n",
       "mean       4.450456      9.215890      0.646329     28.499424  \n",
       "std        5.047033     12.037002      0.489995     35.955481  \n",
       "min        0.000000      0.000000      0.000000      0.000000  \n",
       "25%        1.020000      1.150000      0.220000      1.660000  \n",
       "50%        3.870000      4.880000      0.680000     14.320000  \n",
       "75%        6.690000     10.670000      0.930000     42.390000  \n",
       "max      342.670000     99.820000      3.940000    199.930000  "
      ]
     },
     "execution_count": 5,
     "metadata": {},
     "output_type": "execute_result"
    }
   ],
   "source": [
    "df.describe()"
   ]
  },
  {
   "cell_type": "markdown",
   "metadata": {},
   "source": [
    "- ACF test"
   ]
  },
  {
   "cell_type": "code",
   "execution_count": 6,
   "metadata": {},
   "outputs": [
    {
     "data": {
      "text/plain": [
       "array([1.        , 0.97412999, 0.94558929, 0.91698941, 0.89057369,\n",
       "       0.86802327, 0.84731152, 0.82662716, 0.80734383, 0.79158265,\n",
       "       0.77718794])"
      ]
     },
     "execution_count": 6,
     "metadata": {},
     "output_type": "execute_result"
    }
   ],
   "source": [
    "auto_corr_array = tsa.stattools.acf(df['PM2.5'], nlags=10)\n",
    "auto_corr_array"
   ]
  },
  {
   "cell_type": "markdown",
   "metadata": {},
   "source": [
    "Above method shows auto_correlation with each lagged time-series"
   ]
  },
  {
   "cell_type": "markdown",
   "metadata": {},
   "source": [
    "- Stationarity test"
   ]
  },
  {
   "cell_type": "code",
   "execution_count": 7,
   "metadata": {},
   "outputs": [
    {
     "data": {
      "text/plain": [
       "(-27.027558437582787,\n",
       " 0.0,\n",
       " {'1%': -3.9588886407096857,\n",
       "  '5%': -3.410547535295761,\n",
       "  '10%': -3.1270838835203616},\n",
       " <statsmodels.stats.diagnostic.ResultsStore at 0x7f991fc3d1f0>)"
      ]
     },
     "execution_count": 7,
     "metadata": {},
     "output_type": "execute_result"
    }
   ],
   "source": [
    "adfuller = tsa.stattools.adfuller(df['PM2.5'], maxlag=10, regression=\"ct\", store=True)\n",
    "adfuller"
   ]
  },
  {
   "cell_type": "markdown",
   "metadata": {},
   "source": [
    "- Time-series decomposition"
   ]
  },
  {
   "cell_type": "code",
   "execution_count": 8,
   "metadata": {},
   "outputs": [],
   "source": [
    "from statsmodels.tsa.seasonal import STL"
   ]
  },
  {
   "cell_type": "code",
   "execution_count": 9,
   "metadata": {},
   "outputs": [
    {
     "data": {
      "image/png": "[encoded data removed]",
      "text/plain": [
       "<Figure size 1152x648 with 4 Axes>"
      ]
     },
     "metadata": {
      "needs_background": "light"
     },
     "output_type": "display_data"
    }
   ],
   "source": [
    "stl = STL(df['PM2.5'], period=96)\n",
    "res = stl.fit()\n",
    "fig = res.plot()\n",
    "fig.set_size_inches((16, 9))\n",
    "fig.tight_layout()\n",
    "plt.show()"
   ]
  },
  {
   "cell_type": "markdown",
   "metadata": {},
   "source": [
    "- Auto-correlation and partial auto-correlation plots"
   ]
  },
  {
   "cell_type": "code",
   "execution_count": 10,
   "metadata": {},
   "outputs": [],
   "source": [
    "from statsmodels.graphics.tsaplots import plot_acf, plot_pacf"
   ]
  },
  {
   "cell_type": "markdown",
   "metadata": {},
   "source": [
    "## plot the acf_plot"
   ]
  },
  {
   "cell_type": "code",
   "execution_count": 11,
   "metadata": {},
   "outputs": [
    {
     "data": {
      "image/png": "[encoded data removed]",
      "text/plain": [
       "<Figure size 432x288 with 1 Axes>"
      ]
     },
     "metadata": {
      "needs_background": "light"
     },
     "output_type": "display_data"
    }
   ],
   "source": [
    "acf_plot = plot_acf(df['PM2.5'], lags=30)"
   ]
  },
  {
   "cell_type": "markdown",
   "metadata": {},
   "source": [
    "Based on the above ACF plot, it decreases slowly towards zero, which suggests a non-stationary time series. "
   ]
  },
  {
   "cell_type": "markdown",
   "metadata": {},
   "source": [
    "- Differencing"
   ]
  },
  {
   "cell_type": "code",
   "execution_count": 12,
   "metadata": {},
   "outputs": [],
   "source": [
    "df['PM2.5_Diff'] = df['PM2.5'] - df['PM2.5'].shift(1)"
   ]
  },
  {
   "cell_type": "code",
   "execution_count": 13,
   "metadata": {},
   "outputs": [
    {
     "data": {
      "text/html": [
       "<div>\n",
       "<style scoped>\n",
       "    .dataframe tbody tr th:only-of-type {\n",
       "        vertical-align: middle;\n",
       "    }\n",
       "\n",
       "    .dataframe tbody tr th {\n",
       "        vertical-align: top;\n",
       "    }\n",
       "\n",
       "    .dataframe thead th {\n",
       "        text-align: right;\n",
       "    }\n",
       "</style>\n",
       "<table border=\"1\" class=\"dataframe\">\n",
       "  <thead>\n",
       "    <tr style=\"text-align: right;\">\n",
       "      <th></th>\n",
       "      <th>PM2.5</th>\n",
       "      <th>PM10</th>\n",
       "      <th>NO</th>\n",
       "      <th>NO2</th>\n",
       "      <th>NOx</th>\n",
       "      <th>NH3</th>\n",
       "      <th>SO2</th>\n",
       "      <th>CO</th>\n",
       "      <th>Ozone</th>\n",
       "      <th>Date</th>\n",
       "      <th>PM2.5_Diff</th>\n",
       "    </tr>\n",
       "    <tr>\n",
       "      <th>From Date</th>\n",
       "      <th></th>\n",
       "      <th></th>\n",
       "      <th></th>\n",
       "      <th></th>\n",
       "      <th></th>\n",
       "      <th></th>\n",
       "      <th></th>\n",
       "      <th></th>\n",
       "      <th></th>\n",
       "      <th></th>\n",
       "      <th></th>\n",
       "    </tr>\n",
       "  </thead>\n",
       "  <tbody>\n",
       "    <tr>\n",
       "      <th>2021-01-01 00:00:00</th>\n",
       "      <td>79.18</td>\n",
       "      <td>116.33</td>\n",
       "      <td>0.36</td>\n",
       "      <td>10.86</td>\n",
       "      <td>11.22</td>\n",
       "      <td>7.79</td>\n",
       "      <td>5.72</td>\n",
       "      <td>0.41</td>\n",
       "      <td>107.72</td>\n",
       "      <td>2021-01-01</td>\n",
       "      <td>NaN</td>\n",
       "    </tr>\n",
       "    <tr>\n",
       "      <th>2021-01-01 00:15:00</th>\n",
       "      <td>75.00</td>\n",
       "      <td>107.00</td>\n",
       "      <td>0.53</td>\n",
       "      <td>9.04</td>\n",
       "      <td>9.58</td>\n",
       "      <td>7.64</td>\n",
       "      <td>5.52</td>\n",
       "      <td>0.41</td>\n",
       "      <td>104.27</td>\n",
       "      <td>2021-01-01</td>\n",
       "      <td>-4.18</td>\n",
       "    </tr>\n",
       "    <tr>\n",
       "      <th>2021-01-01 00:30:00</th>\n",
       "      <td>75.00</td>\n",
       "      <td>107.00</td>\n",
       "      <td>1.02</td>\n",
       "      <td>10.77</td>\n",
       "      <td>11.79</td>\n",
       "      <td>7.78</td>\n",
       "      <td>6.18</td>\n",
       "      <td>0.53</td>\n",
       "      <td>98.05</td>\n",
       "      <td>2021-01-01</td>\n",
       "      <td>0.00</td>\n",
       "    </tr>\n",
       "    <tr>\n",
       "      <th>2021-01-01 00:45:00</th>\n",
       "      <td>75.00</td>\n",
       "      <td>107.00</td>\n",
       "      <td>1.47</td>\n",
       "      <td>17.84</td>\n",
       "      <td>19.33</td>\n",
       "      <td>8.12</td>\n",
       "      <td>6.69</td>\n",
       "      <td>0.60</td>\n",
       "      <td>86.91</td>\n",
       "      <td>2021-01-01</td>\n",
       "      <td>0.00</td>\n",
       "    </tr>\n",
       "    <tr>\n",
       "      <th>2021-01-01 01:00:00</th>\n",
       "      <td>76.40</td>\n",
       "      <td>107.44</td>\n",
       "      <td>1.46</td>\n",
       "      <td>17.81</td>\n",
       "      <td>19.28</td>\n",
       "      <td>8.57</td>\n",
       "      <td>6.40</td>\n",
       "      <td>0.59</td>\n",
       "      <td>83.05</td>\n",
       "      <td>2021-01-01</td>\n",
       "      <td>1.40</td>\n",
       "    </tr>\n",
       "  </tbody>\n",
       "</table>\n",
       "</div>"
      ],
      "text/plain": [
       "                     PM2.5    PM10    NO    NO2    NOx   NH3   SO2    CO  \\\n",
       "From Date                                                                  \n",
       "2021-01-01 00:00:00  79.18  116.33  0.36  10.86  11.22  7.79  5.72  0.41   \n",
       "2021-01-01 00:15:00  75.00  107.00  0.53   9.04   9.58  7.64  5.52  0.41   \n",
       "2021-01-01 00:30:00  75.00  107.00  1.02  10.77  11.79  7.78  6.18  0.53   \n",
       "2021-01-01 00:45:00  75.00  107.00  1.47  17.84  19.33  8.12  6.69  0.60   \n",
       "2021-01-01 01:00:00  76.40  107.44  1.46  17.81  19.28  8.57  6.40  0.59   \n",
       "\n",
       "                      Ozone        Date  PM2.5_Diff  \n",
       "From Date                                            \n",
       "2021-01-01 00:00:00  107.72  2021-01-01         NaN  \n",
       "2021-01-01 00:15:00  104.27  2021-01-01       -4.18  \n",
       "2021-01-01 00:30:00   98.05  2021-01-01        0.00  \n",
       "2021-01-01 00:45:00   86.91  2021-01-01        0.00  \n",
       "2021-01-01 01:00:00   83.05  2021-01-01        1.40  "
      ]
     },
     "execution_count": 13,
     "metadata": {},
     "output_type": "execute_result"
    }
   ],
   "source": [
    "df.head()"
   ]
  },
  {
   "cell_type": "code",
   "execution_count": 14,
   "metadata": {},
   "outputs": [
    {
     "data": {
      "text/plain": [
       "<AxesSubplot:xlabel='From Date'>"
      ]
     },
     "execution_count": 14,
     "metadata": {},
     "output_type": "execute_result"
    },
    {
     "data": {
      "image/png": "[encoded data removed]",
      "text/plain": [
       "<Figure size 432x288 with 1 Axes>"
      ]
     },
     "metadata": {
      "needs_background": "light"
     },
     "output_type": "display_data"
    }
   ],
   "source": [
    "df['PM2.5_Diff'].plot()"
   ]
  },
  {
   "cell_type": "code",
   "execution_count": 15,
   "metadata": {},
   "outputs": [
    {
     "name": "stderr",
     "output_type": "stream",
     "text": [
      "/Users/yutong/opt/anaconda3/lib/python3.9/site-packages/statsmodels/graphics/tsaplots.py:348: FutureWarning: The default method 'yw' can produce PACF values outside of the [-1,1] interval. After 0.13, the default will change tounadjusted Yule-Walker ('ywm'). You can use this method now by setting method='ywm'.\n",
      "  warnings.warn(\n"
     ]
    },
    {
     "data": {
      "image/png": "[encoded data removed]",
      "text/plain": [
       "<Figure size 432x288 with 1 Axes>"
      ]
     },
     "metadata": {
      "needs_background": "light"
     },
     "output_type": "display_data"
    }
   ],
   "source": [
    "# plot the pacf plot for PM2.5_Diff \n",
    "pacf_plot = plot_pacf(df['PM2.5_Diff'].dropna(), lags=20)"
   ]
  },
  {
   "cell_type": "markdown",
   "metadata": {},
   "source": [
    "Here, we have differencing factor of 1 as PACF immediatly cuts off to zero."
   ]
  },
  {
   "cell_type": "markdown",
   "metadata": {},
   "source": [
    "## ARIMA model"
   ]
  },
  {
   "cell_type": "markdown",
   "metadata": {},
   "source": [
    "- We will build ARIMA model of order  (1,1,1) as we have differencing factor of 1"
   ]
  },
  {
   "cell_type": "code",
   "execution_count": 16,
   "metadata": {},
   "outputs": [],
   "source": [
    "from statsmodels.tsa.arima.model import ARIMA\n",
    "\n",
    "pm25_train = df['PM2.5'][:60000]\n",
    "pm25_test = df['PM2.5'][60000:]"
   ]
  },
  {
   "cell_type": "code",
   "execution_count": 17,
   "metadata": {},
   "outputs": [
    {
     "name": "stderr",
     "output_type": "stream",
     "text": [
      "/Users/yutong/opt/anaconda3/lib/python3.9/site-packages/statsmodels/tsa/base/tsa_model.py:471: ValueWarning: No frequency information was provided, so inferred frequency 15T will be used.\n",
      "  self._init_dates(dates, freq)\n",
      "/Users/yutong/opt/anaconda3/lib/python3.9/site-packages/statsmodels/tsa/base/tsa_model.py:471: ValueWarning: No frequency information was provided, so inferred frequency 15T will be used.\n",
      "  self._init_dates(dates, freq)\n",
      "/Users/yutong/opt/anaconda3/lib/python3.9/site-packages/statsmodels/tsa/base/tsa_model.py:471: ValueWarning: No frequency information was provided, so inferred frequency 15T will be used.\n",
      "  self._init_dates(dates, freq)\n"
     ]
    },
    {
     "data": {
      "text/html": [
       "<table class=\"simpletable\">\n",
       "<caption>SARIMAX Results</caption>\n",
       "<tr>\n",
       "  <th>Dep. Variable:</th>         <td>PM2.5</td>      <th>  No. Observations:  </th>    <td>60000</td>   \n",
       "</tr>\n",
       "<tr>\n",
       "  <th>Model:</th>            <td>ARIMA(1, 1, 1)</td>  <th>  Log Likelihood     </th> <td>-210336.944</td>\n",
       "</tr>\n",
       "<tr>\n",
       "  <th>Date:</th>            <td>Thu, 21 Sep 2023</td> <th>  AIC                </th> <td>420679.888</td> \n",
       "</tr>\n",
       "<tr>\n",
       "  <th>Time:</th>                <td>17:59:15</td>     <th>  BIC                </th> <td>420706.894</td> \n",
       "</tr>\n",
       "<tr>\n",
       "  <th>Sample:</th>             <td>01-01-2021</td>    <th>  HQIC               </th> <td>420688.276</td> \n",
       "</tr>\n",
       "<tr>\n",
       "  <th></th>                   <td>- 09-17-2022</td>   <th>                     </th>      <td> </td>     \n",
       "</tr>\n",
       "<tr>\n",
       "  <th>Covariance Type:</th>        <td>opg</td>       <th>                     </th>      <td> </td>     \n",
       "</tr>\n",
       "</table>\n",
       "<table class=\"simpletable\">\n",
       "<tr>\n",
       "     <td></td>       <th>coef</th>     <th>std err</th>      <th>z</th>      <th>P>|z|</th>  <th>[0.025</th>    <th>0.975]</th>  \n",
       "</tr>\n",
       "<tr>\n",
       "  <th>ar.L1</th>  <td>   -0.0035</td> <td>    0.163</td> <td>   -0.021</td> <td> 0.983</td> <td>   -0.323</td> <td>    0.316</td>\n",
       "</tr>\n",
       "<tr>\n",
       "  <th>ma.L1</th>  <td>    0.0250</td> <td>    0.163</td> <td>    0.153</td> <td> 0.878</td> <td>   -0.295</td> <td>    0.345</td>\n",
       "</tr>\n",
       "<tr>\n",
       "  <th>sigma2</th> <td>   64.9443</td> <td>    0.026</td> <td> 2486.574</td> <td> 0.000</td> <td>   64.893</td> <td>   64.995</td>\n",
       "</tr>\n",
       "</table>\n",
       "<table class=\"simpletable\">\n",
       "<tr>\n",
       "  <th>Ljung-Box (L1) (Q):</th>     <td>0.00</td> <th>  Jarque-Bera (JB):  </th> <td>1382074401.62</td>\n",
       "</tr>\n",
       "<tr>\n",
       "  <th>Prob(Q):</th>                <td>0.99</td> <th>  Prob(JB):          </th>     <td>0.00</td>     \n",
       "</tr>\n",
       "<tr>\n",
       "  <th>Heteroskedasticity (H):</th> <td>3.00</td> <th>  Skew:              </th>     <td>-4.92</td>    \n",
       "</tr>\n",
       "<tr>\n",
       "  <th>Prob(H) (two-sided):</th>    <td>0.00</td> <th>  Kurtosis:          </th>    <td>746.47</td>    \n",
       "</tr>\n",
       "</table><br/><br/>Warnings:<br/>[1] Covariance matrix calculated using the outer product of gradients (complex-step)."
      ],
      "text/plain": [
       "<class 'statsmodels.iolib.summary.Summary'>\n",
       "\"\"\"\n",
       "                               SARIMAX Results                                \n",
       "==============================================================================\n",
       "Dep. Variable:                  PM2.5   No. Observations:                60000\n",
       "Model:                 ARIMA(1, 1, 1)   Log Likelihood             -210336.944\n",
       "Date:                Thu, 21 Sep 2023   AIC                         420679.888\n",
       "Time:                        17:59:15   BIC                         420706.894\n",
       "Sample:                    01-01-2021   HQIC                        420688.276\n",
       "                         - 09-17-2022                                         \n",
       "Covariance Type:                  opg                                         \n",
       "==============================================================================\n",
       "                 coef    std err          z      P>|z|      [0.025      0.975]\n",
       "------------------------------------------------------------------------------\n",
       "ar.L1         -0.0035      0.163     -0.021      0.983      -0.323       0.316\n",
       "ma.L1          0.0250      0.163      0.153      0.878      -0.295       0.345\n",
       "sigma2        64.9443      0.026   2486.574      0.000      64.893      64.995\n",
       "===================================================================================\n",
       "Ljung-Box (L1) (Q):                   0.00   Jarque-Bera (JB):        1382074401.62\n",
       "Prob(Q):                              0.99   Prob(JB):                         0.00\n",
       "Heteroskedasticity (H):               3.00   Skew:                            -4.92\n",
       "Prob(H) (two-sided):                  0.00   Kurtosis:                       746.47\n",
       "===================================================================================\n",
       "\n",
       "Warnings:\n",
       "[1] Covariance matrix calculated using the outer product of gradients (complex-step).\n",
       "\"\"\""
      ]
     },
     "execution_count": 17,
     "metadata": {},
     "output_type": "execute_result"
    }
   ],
   "source": [
    "arima = ARIMA(pm25_train.astype(np.float64), order=(1,1,1))\n",
    "arima_model = arima.fit()\n",
    "arima_model.summary()"
   ]
  },
  {
   "cell_type": "code",
   "execution_count": 18,
   "metadata": {},
   "outputs": [],
   "source": [
    "# predict and calculate RMSE\n",
    "predictions = arima_model.forecast(steps=20)"
   ]
  },
  {
   "cell_type": "code",
   "execution_count": 19,
   "metadata": {},
   "outputs": [
    {
     "data": {
      "text/plain": [
       "2022-09-18 00:00:00    3.999945\n",
       "2022-09-18 00:15:00    3.999945\n",
       "2022-09-18 00:30:00    3.999945\n",
       "2022-09-18 00:45:00    3.999945\n",
       "2022-09-18 01:00:00    3.999945\n",
       "2022-09-18 01:15:00    3.999945\n",
       "2022-09-18 01:30:00    3.999945\n",
       "2022-09-18 01:45:00    3.999945\n",
       "2022-09-18 02:00:00    3.999945\n",
       "2022-09-18 02:15:00    3.999945\n",
       "2022-09-18 02:30:00    3.999945\n",
       "2022-09-18 02:45:00    3.999945\n",
       "2022-09-18 03:00:00    3.999945\n",
       "2022-09-18 03:15:00    3.999945\n",
       "2022-09-18 03:30:00    3.999945\n",
       "2022-09-18 03:45:00    3.999945\n",
       "2022-09-18 04:00:00    3.999945\n",
       "2022-09-18 04:15:00    3.999945\n",
       "2022-09-18 04:30:00    3.999945\n",
       "2022-09-18 04:45:00    3.999945\n",
       "Freq: 15T, Name: predicted_mean, dtype: float64"
      ]
     },
     "execution_count": 19,
     "metadata": {},
     "output_type": "execute_result"
    }
   ],
   "source": [
    "predictions"
   ]
  },
  {
   "cell_type": "markdown",
   "metadata": {},
   "source": [
    "## Regression based model"
   ]
  },
  {
   "cell_type": "code",
   "execution_count": 20,
   "metadata": {},
   "outputs": [],
   "source": [
    "df['pm2.5_autoreg'] = df['PM2.5'].shift(1)"
   ]
  },
  {
   "cell_type": "code",
   "execution_count": 21,
   "metadata": {},
   "outputs": [
    {
     "data": {
      "text/html": [
       "<div>\n",
       "<style scoped>\n",
       "    .dataframe tbody tr th:only-of-type {\n",
       "        vertical-align: middle;\n",
       "    }\n",
       "\n",
       "    .dataframe tbody tr th {\n",
       "        vertical-align: top;\n",
       "    }\n",
       "\n",
       "    .dataframe thead th {\n",
       "        text-align: right;\n",
       "    }\n",
       "</style>\n",
       "<table border=\"1\" class=\"dataframe\">\n",
       "  <thead>\n",
       "    <tr style=\"text-align: right;\">\n",
       "      <th></th>\n",
       "      <th>PM2.5</th>\n",
       "      <th>PM10</th>\n",
       "      <th>NO</th>\n",
       "      <th>NO2</th>\n",
       "      <th>NOx</th>\n",
       "      <th>NH3</th>\n",
       "      <th>SO2</th>\n",
       "      <th>CO</th>\n",
       "      <th>Ozone</th>\n",
       "      <th>Date</th>\n",
       "      <th>PM2.5_Diff</th>\n",
       "      <th>pm2.5_autoreg</th>\n",
       "    </tr>\n",
       "    <tr>\n",
       "      <th>From Date</th>\n",
       "      <th></th>\n",
       "      <th></th>\n",
       "      <th></th>\n",
       "      <th></th>\n",
       "      <th></th>\n",
       "      <th></th>\n",
       "      <th></th>\n",
       "      <th></th>\n",
       "      <th></th>\n",
       "      <th></th>\n",
       "      <th></th>\n",
       "      <th></th>\n",
       "    </tr>\n",
       "  </thead>\n",
       "  <tbody>\n",
       "    <tr>\n",
       "      <th>2021-01-01 00:00:00</th>\n",
       "      <td>79.18</td>\n",
       "      <td>116.33</td>\n",
       "      <td>0.36</td>\n",
       "      <td>10.86</td>\n",
       "      <td>11.22</td>\n",
       "      <td>7.79</td>\n",
       "      <td>5.72</td>\n",
       "      <td>0.41</td>\n",
       "      <td>107.72</td>\n",
       "      <td>2021-01-01</td>\n",
       "      <td>NaN</td>\n",
       "      <td>NaN</td>\n",
       "    </tr>\n",
       "    <tr>\n",
       "      <th>2021-01-01 00:15:00</th>\n",
       "      <td>75.00</td>\n",
       "      <td>107.00</td>\n",
       "      <td>0.53</td>\n",
       "      <td>9.04</td>\n",
       "      <td>9.58</td>\n",
       "      <td>7.64</td>\n",
       "      <td>5.52</td>\n",
       "      <td>0.41</td>\n",
       "      <td>104.27</td>\n",
       "      <td>2021-01-01</td>\n",
       "      <td>-4.18</td>\n",
       "      <td>79.18</td>\n",
       "    </tr>\n",
       "    <tr>\n",
       "      <th>2021-01-01 00:30:00</th>\n",
       "      <td>75.00</td>\n",
       "      <td>107.00</td>\n",
       "      <td>1.02</td>\n",
       "      <td>10.77</td>\n",
       "      <td>11.79</td>\n",
       "      <td>7.78</td>\n",
       "      <td>6.18</td>\n",
       "      <td>0.53</td>\n",
       "      <td>98.05</td>\n",
       "      <td>2021-01-01</td>\n",
       "      <td>0.00</td>\n",
       "      <td>75.00</td>\n",
       "    </tr>\n",
       "    <tr>\n",
       "      <th>2021-01-01 00:45:00</th>\n",
       "      <td>75.00</td>\n",
       "      <td>107.00</td>\n",
       "      <td>1.47</td>\n",
       "      <td>17.84</td>\n",
       "      <td>19.33</td>\n",
       "      <td>8.12</td>\n",
       "      <td>6.69</td>\n",
       "      <td>0.60</td>\n",
       "      <td>86.91</td>\n",
       "      <td>2021-01-01</td>\n",
       "      <td>0.00</td>\n",
       "      <td>75.00</td>\n",
       "    </tr>\n",
       "    <tr>\n",
       "      <th>2021-01-01 01:00:00</th>\n",
       "      <td>76.40</td>\n",
       "      <td>107.44</td>\n",
       "      <td>1.46</td>\n",
       "      <td>17.81</td>\n",
       "      <td>19.28</td>\n",
       "      <td>8.57</td>\n",
       "      <td>6.40</td>\n",
       "      <td>0.59</td>\n",
       "      <td>83.05</td>\n",
       "      <td>2021-01-01</td>\n",
       "      <td>1.40</td>\n",
       "      <td>75.00</td>\n",
       "    </tr>\n",
       "  </tbody>\n",
       "</table>\n",
       "</div>"
      ],
      "text/plain": [
       "                     PM2.5    PM10    NO    NO2    NOx   NH3   SO2    CO  \\\n",
       "From Date                                                                  \n",
       "2021-01-01 00:00:00  79.18  116.33  0.36  10.86  11.22  7.79  5.72  0.41   \n",
       "2021-01-01 00:15:00  75.00  107.00  0.53   9.04   9.58  7.64  5.52  0.41   \n",
       "2021-01-01 00:30:00  75.00  107.00  1.02  10.77  11.79  7.78  6.18  0.53   \n",
       "2021-01-01 00:45:00  75.00  107.00  1.47  17.84  19.33  8.12  6.69  0.60   \n",
       "2021-01-01 01:00:00  76.40  107.44  1.46  17.81  19.28  8.57  6.40  0.59   \n",
       "\n",
       "                      Ozone        Date  PM2.5_Diff  pm2.5_autoreg  \n",
       "From Date                                                           \n",
       "2021-01-01 00:00:00  107.72  2021-01-01         NaN            NaN  \n",
       "2021-01-01 00:15:00  104.27  2021-01-01       -4.18          79.18  \n",
       "2021-01-01 00:30:00   98.05  2021-01-01        0.00          75.00  \n",
       "2021-01-01 00:45:00   86.91  2021-01-01        0.00          75.00  \n",
       "2021-01-01 01:00:00   83.05  2021-01-01        1.40          75.00  "
      ]
     },
     "execution_count": 21,
     "metadata": {},
     "output_type": "execute_result"
    }
   ],
   "source": [
    "df.head()"
   ]
  },
  {
   "cell_type": "code",
   "execution_count": 22,
   "metadata": {},
   "outputs": [],
   "source": [
    "# modeling using regression method and autoregression\n",
    "model_df = df[['PM2.5','pm2.5_autoreg']].dropna()"
   ]
  },
  {
   "cell_type": "code",
   "execution_count": 23,
   "metadata": {},
   "outputs": [],
   "source": [
    "# split the data without shuffling\n",
    "ts_train = model_df[:60000]\n",
    "ts_test = model_df[60000:]"
   ]
  },
  {
   "cell_type": "code",
   "execution_count": 24,
   "metadata": {},
   "outputs": [],
   "source": [
    "# split the train and test dataset\n",
    "X_train = ts_train['pm2.5_autoreg']\n",
    "y_train = ts_train['PM2.5']\n",
    "\n",
    "X_test = ts_test['pm2.5_autoreg']\n",
    "y_test = ts_test['PM2.5']"
   ]
  },
  {
   "cell_type": "code",
   "execution_count": 25,
   "metadata": {},
   "outputs": [
    {
     "data": {
      "text/plain": [
       "LinearRegression()"
      ]
     },
     "execution_count": 25,
     "metadata": {},
     "output_type": "execute_result"
    }
   ],
   "source": [
    "# import linear model\n",
    "from sklearn.linear_model import LinearRegression\n",
    "\n",
    "lr_model = LinearRegression()\n",
    "lr_model.fit(np.array(X_train).reshape(-1,1),y_train)"
   ]
  },
  {
   "cell_type": "code",
   "execution_count": 26,
   "metadata": {},
   "outputs": [],
   "source": [
    "# predictions\n",
    "preds = lr_model.predict(np.array(X_test).reshape(-1,1))"
   ]
  },
  {
   "cell_type": "code",
   "execution_count": 27,
   "metadata": {},
   "outputs": [],
   "source": [
    "# measure the performance\n",
    "from sklearn.metrics import mean_absolute_percentage_error, mean_squared_error, r2_score\n",
    "\n",
    "# calculate MAPE\n",
    "mape = mean_absolute_percentage_error(y_test, preds)\n",
    "# calculate RMSE\n",
    "rmse = np.sqrt(mean_squared_error(y_test, preds))\n",
    "# calculate R-squared\n",
    "r2 = r2_score(y_test, preds)"
   ]
  },
  {
   "cell_type": "code",
   "execution_count": 28,
   "metadata": {},
   "outputs": [
    {
     "name": "stdout",
     "output_type": "stream",
     "text": [
      "MAPE:  0.05785420091711441\n",
      "RMSE:  7.570823755669825\n",
      "R-squared:  0.9532548390719141\n"
     ]
    }
   ],
   "source": [
    "print(\"MAPE: \", mape)\n",
    "print(\"RMSE: \", rmse)\n",
    "print(\"R-squared: \", r2)"
   ]
  },
  {
   "cell_type": "code",
   "execution_count": 29,
   "metadata": {},
   "outputs": [],
   "source": [
    "predss = pd.Series(preds, index=y_test.index)"
   ]
  },
  {
   "cell_type": "code",
   "execution_count": 30,
   "metadata": {},
   "outputs": [
    {
     "data": {
      "text/plain": [
       "[<matplotlib.lines.Line2D at 0x7f99186d6ac0>]"
      ]
     },
     "execution_count": 30,
     "metadata": {},
     "output_type": "execute_result"
    },
    {
     "data": {
      "image/png": "[encoded data removed]",
      "text/plain": [
       "<Figure size 864x432 with 1 Axes>"
      ]
     },
     "metadata": {
      "needs_background": "light"
     },
     "output_type": "display_data"
    }
   ],
   "source": [
    "# plot the graph\n",
    "plt.figure(figsize=(12,6))\n",
    "plt.plot(y_train)\n",
    "plt.plot(y_test)\n",
    "plt.plot(predss)"
   ]
  },
  {
   "cell_type": "code",
   "execution_count": null,
   "metadata": {},
   "outputs": [],
   "source": []
  }
 ],
 "metadata": {
  "kernelspec": {
   "display_name": "Python 3 (ipykernel)",
   "language": "python",
   "name": "python3"
  },
  "language_info": {
   "codemirror_mode": {
    "name": "ipython",
    "version": 3
   },
   "file_extension": ".py",
   "mimetype": "text/x-python",
   "name": "python",
   "nbconvert_exporter": "python",
   "pygments_lexer": "ipython3",
   "version": "3.9.12"
  }
 },
 "nbformat": 4,
 "nbformat_minor": 2
}
